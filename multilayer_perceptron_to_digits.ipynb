{
  "nbformat": 4,
  "nbformat_minor": 0,
  "metadata": {
    "colab": {
      "name": "multilayer perceptron to digits.ipynb",
      "provenance": [],
      "authorship_tag": "ABX9TyNLWhcU1KMmhAOqP+2FSD5/",
      "include_colab_link": true
    },
    "kernelspec": {
      "name": "python3",
      "display_name": "Python 3"
    },
    "language_info": {
      "name": "python"
    },
    "accelerator": "GPU"
  },
  "cells": [
    {
      "cell_type": "markdown",
      "metadata": {
        "id": "view-in-github",
        "colab_type": "text"
      },
      "source": [
        "<a href=\"https://colab.research.google.com/github/kowoonho/machine-learning/blob/main/multilayer_perceptron_to_digits.ipynb\" target=\"_parent\"><img src=\"https://colab.research.google.com/assets/colab-badge.svg\" alt=\"Open In Colab\"/></a>"
      ]
    },
    {
      "cell_type": "code",
      "source": [
        "import torch\n",
        "import torch.nn as nn\n",
        "import torch.optim as optim \n",
        "import matplotlib.pyplot as plt\n",
        "from sklearn.datasets import load_digits\n",
        "import random\n",
        "digits = load_digits() #손글씨 데이터 로드"
      ],
      "metadata": {
        "id": "FAVQYTSvl27v"
      },
      "execution_count": 2,
      "outputs": []
    },
    {
      "cell_type": "code",
      "source": [
        "model = nn.Sequential(\n",
        "    nn.Linear(64, 32),\n",
        "    nn.ReLU(),\n",
        "    nn.Linear(32,16),\n",
        "    nn.ReLU(),\n",
        "    nn.Linear(16,10)\n",
        ") # 모델 생성 3개의 layer로 구성\n",
        "\n",
        "X = digits.data\n",
        "Y = digits.target\n",
        "X = torch.tensor(X, dtype = torch.float32)\n",
        "Y = torch.tensor(Y, dtype = torch.int64)\n",
        "\n",
        "loss_fn = nn.CrossEntropyLoss()\n",
        "optimizer = optim.Adam(model.parameters())\n",
        "\n",
        "losses = [] # epoch마다 cost를 저장"
      ],
      "metadata": {
        "id": "DS7dTX--l9Ez"
      },
      "execution_count": 3,
      "outputs": []
    },
    {
      "cell_type": "code",
      "source": [
        "for epoch in range(101):\n",
        "  optimizer.zero_grad()\n",
        "  hypothesis = model(X)\n",
        "\n",
        "  cost = loss_fn(hypothesis, Y)\n",
        "  cost.backward()\n",
        "  optimizer.step()\n",
        "\n",
        "  if epoch % 10 == 0:\n",
        "    print('Epoch {:4d}/{} Cost: {:.6f}'.format(\n",
        "        epoch, 100, cost.item()\n",
        "    ))\n",
        "  losses.append(cost.item())"
      ],
      "metadata": {
        "colab": {
          "base_uri": "https://localhost:8080/"
        },
        "id": "6ecK-6UWmsu5",
        "outputId": "872d6257-b05c-4552-94c6-4eb7ef992e0d"
      },
      "execution_count": 4,
      "outputs": [
        {
          "output_type": "stream",
          "name": "stdout",
          "text": [
            "Epoch    0/100 Cost: 2.362897\n",
            "Epoch   10/100 Cost: 2.080415\n",
            "Epoch   20/100 Cost: 1.795021\n",
            "Epoch   30/100 Cost: 1.420350\n",
            "Epoch   40/100 Cost: 1.032274\n",
            "Epoch   50/100 Cost: 0.713716\n",
            "Epoch   60/100 Cost: 0.495913\n",
            "Epoch   70/100 Cost: 0.358194\n",
            "Epoch   80/100 Cost: 0.275060\n",
            "Epoch   90/100 Cost: 0.222145\n",
            "Epoch  100/100 Cost: 0.186409\n"
          ]
        }
      ]
    },
    {
      "cell_type": "code",
      "source": [
        "print(X[0].type)"
      ],
      "metadata": {
        "colab": {
          "base_uri": "https://localhost:8080/"
        },
        "id": "fx-A5UjaqPOR",
        "outputId": "cf7edda1-d417-4911-b7a7-e92df020045f"
      },
      "execution_count": 5,
      "outputs": [
        {
          "output_type": "stream",
          "name": "stdout",
          "text": [
            "<built-in method type of Tensor object at 0x7f792ff8af50>\n"
          ]
        }
      ]
    },
    {
      "cell_type": "code",
      "source": [
        "plt.plot(losses)"
      ],
      "metadata": {
        "colab": {
          "base_uri": "https://localhost:8080/",
          "height": 282
        },
        "id": "1Wq3dZ7anIRk",
        "outputId": "e7596d61-177e-4dec-9b5e-0b69f7a0f7ce"
      },
      "execution_count": 6,
      "outputs": [
        {
          "output_type": "execute_result",
          "data": {
            "text/plain": [
              "[<matplotlib.lines.Line2D at 0x7f78235f3750>]"
            ]
          },
          "metadata": {},
          "execution_count": 6
        },
        {
          "output_type": "display_data",
          "data": {
            "image/png": "[encoded data removed]",
            "text/plain": [
              "<Figure size 432x288 with 1 Axes>"
            ]
          },
          "metadata": {
            "needs_background": "light"
          }
        }
      ]
    },
    {
      "cell_type": "code",
      "source": [
        "# 랜덤하게 5개의 수를 뽑아서 예측값 출력\n",
        "import numpy as np\n",
        "for i in range(5):\n",
        "  r = np.random.randint(0, 1797);\n",
        "  image = digits.images[r]\n",
        "  label = digits.target[r]\n",
        "  hypothesis = model(torch.tensor(digits.data[r], dtype=torch.float32)) \n",
        "  pred_y = torch.argmax(hypothesis)\n",
        "  plt.subplot(2,5,i+1)\n",
        "  plt.axis('off')\n",
        "  plt.imshow(image, cmap=plt.cm.gray_r, interpolation='nearest')\n",
        "  plt.title('pred: %i' % pred_y)"
      ],
      "metadata": {
        "colab": {
          "base_uri": "https://localhost:8080/",
          "height": 105
        },
        "id": "xiE5PNzxnRMj",
        "outputId": "f3e917ed-8581-4cd0-9975-4f5abe7df4ba"
      },
      "execution_count": 19,
      "outputs": [
        {
          "output_type": "display_data",
          "data": {
            "image/png": "[encoded data removed]",
            "text/plain": [
              "<Figure size 432x288 with 5 Axes>"
            ]
          },
          "metadata": {
            "needs_background": "light"
          }
        }
      ]
    },
    {
      "cell_type": "code",
      "source": [
        "## \"pytorch로 시작하는 딥러닝 입문\"을 참고하여 쓴 코드입니다.\n",
        "## https://wikidocs.net/61046"
      ],
      "metadata": {
        "id": "pzfdj2Pjn9YX"
      },
      "execution_count": null,
      "outputs": []
    }
  ]
}