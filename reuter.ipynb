{
 "cells": [
  {
   "cell_type": "code",
   "execution_count": 7,
   "id": "01ba86c0",
   "metadata": {},
   "outputs": [],
   "source": [
    "import tensorflow as tf\n",
    "from tensorflow.keras import layers, models\n",
    "import matplotlib.pyplot as plt\n",
    "from tensorflow.keras.datasets import reuters\n",
    "\n",
    "(train_data, train_labels), (test_data, test_labels) = reuters.load_data(num_words=10000)"
   ]
  },
  {
   "cell_type": "code",
   "execution_count": 2,
   "id": "7ba84b56",
   "metadata": {},
   "outputs": [],
   "source": [
    "import numpy as np\n",
    "def vectorize_sequences(sequences, dimension=10000):\n",
    "    results = np.zeros((len(sequences), dimension))\n",
    "    for i,sequence in  enumerate(sequences):\n",
    "        results[i,sequence] = 1.\n",
    "        return results\n",
    "x_train = vectorize_sequences(train_data)\n",
    "x_test = vectorize_sequences(test_data)\n"
   ]
  },
  {
   "cell_type": "code",
   "execution_count": 3,
   "id": "cfdca39e",
   "metadata": {},
   "outputs": [],
   "source": [
    "from tensorflow.keras.utils import to_categorical\n",
    "\n",
    "# def to_one_hot(labels, dimension=46):\n",
    "#     results = np.zeros((len(labels), dimension))\n",
    "#     for i, label in enumerate(labels):\n",
    "#         results[i, labels] = 1.\n",
    "#     return results\n",
    "\n",
    "# one_hot_train_labels = to_one_hot(train_labels)\n",
    "# one_hot_test_labels = to_one_hot(test_labels)\n",
    "\n",
    "one_hot_train_labels = to_categorical(train_labels)\n",
    "one_hot_test_labels = to_categorical(test_labels)"
   ]
  },
  {
   "cell_type": "code",
   "execution_count": 8,
   "id": "49835f71",
   "metadata": {},
   "outputs": [
    {
     "name": "stdout",
     "output_type": "stream",
     "text": [
      "Train on 6982 samples, validate on 1000 samples\n",
      "Epoch 1/10\n",
      "6982/6982 [==============================] - 1s 126us/sample - loss: 3.8206 - accuracy: 0.3306 - val_loss: 3.8109 - val_accuracy: 0.3260\n",
      "Epoch 2/10\n",
      "6982/6982 [==============================] - 0s 62us/sample - loss: 3.8028 - accuracy: 0.3551 - val_loss: 3.7933 - val_accuracy: 0.3260\n",
      "Epoch 3/10\n",
      "6982/6982 [==============================] - 0s 64us/sample - loss: 3.7852 - accuracy: 0.3551 - val_loss: 3.7759 - val_accuracy: 0.3260\n",
      "Epoch 4/10\n",
      "6982/6982 [==============================] - 0s 62us/sample - loss: 3.7677 - accuracy: 0.3551 - val_loss: 3.7585 - val_accuracy: 0.3260\n",
      "Epoch 5/10\n",
      "6982/6982 [==============================] - 0s 62us/sample - loss: 3.7504 - accuracy: 0.3551 - val_loss: 3.7414 - val_accuracy: 0.3260\n",
      "Epoch 6/10\n",
      "6982/6982 [==============================] - 0s 64us/sample - loss: 3.7332 - accuracy: 0.3551 - val_loss: 3.7243 - val_accuracy: 0.3260\n",
      "Epoch 7/10\n",
      "6982/6982 [==============================] - 0s 64us/sample - loss: 3.7161 - accuracy: 0.3551 - val_loss: 3.7075 - val_accuracy: 0.3260\n",
      "Epoch 8/10\n",
      "6982/6982 [==============================] - 0s 61us/sample - loss: 3.6992 - accuracy: 0.3551 - val_loss: 3.6908 - val_accuracy: 0.3260\n",
      "Epoch 9/10\n",
      "6982/6982 [==============================] - 0s 61us/sample - loss: 3.6825 - accuracy: 0.3551 - val_loss: 3.6741 - val_accuracy: 0.3260\n",
      "Epoch 10/10\n",
      "6982/6982 [==============================] - 0s 61us/sample - loss: 3.6658 - accuracy: 0.3551 - val_loss: 3.6578 - val_accuracy: 0.3260\n"
     ]
    }
   ],
   "source": [
    "model = models.Sequential([\n",
    "    layers.Dense(64, activation='relu', input_shape = (10000,)),\n",
    "    layers.Dense(64, activation='relu'),\n",
    "    layers.Dense(46, activation='softmax')\n",
    "])\n",
    "\n",
    "model.compile(optimizer='Adam', loss='categorical_crossentropy', metrics=['accuracy'])\n",
    "\n",
    "x_val = x_train[:1000]\n",
    "x_train = x_train[1000:]\n",
    "y_val = one_hot_train_labels[:1000]\n",
    "one_hot_train_labels = one_hot_train_labels[1000:]\n",
    "\n",
    "history = model.fit(x_train, one_hot_train_labels, epochs=10, batch_size = 512, validation_data = (x_val, y_val))"
   ]
  },
  {
   "cell_type": "code",
   "execution_count": 9,
   "id": "a1330722",
   "metadata": {},
   "outputs": [
    {
     "data": {
      "image/png": "[encoded data removed]",
      "text/plain": [
       "<Figure size 432x288 with 1 Axes>"
      ]
     },
     "metadata": {
      "needs_background": "light"
     },
     "output_type": "display_data"
    }
   ],
   "source": [
    "loss = history.history['loss']\n",
    "val_loss = history.history['val_loss']\n",
    "\n",
    "epochs = range(1, len(loss)+1)\n",
    "\n",
    "plt.plot(epochs, loss, 'bo', label = 'Training loss')\n",
    "plt.plot(epochs, val_loss, 'b', label = 'Validation loss')\n",
    "plt.title('Training and validation loss')\n",
    "plt.xlabel('Epochs')\n",
    "plt.ylabel('Loss')\n",
    "plt.legend()\n",
    "plt.show()"
   ]
  },
  {
   "cell_type": "code",
   "execution_count": null,
   "id": "dbfed1eb",
   "metadata": {},
   "outputs": [],
   "source": []
  }
 ],
 "metadata": {
  "kernelspec": {
   "display_name": "Python 3 (ipykernel)",
   "language": "python",
   "name": "python3"
  },
  "language_info": {
   "codemirror_mode": {
    "name": "ipython",
    "version": 3
   },
   "file_extension": ".py",
   "mimetype": "text/x-python",
   "name": "python",
   "nbconvert_exporter": "python",
   "pygments_lexer": "ipython3",
   "version": "3.7.0"
  }
 },
 "nbformat": 4,
 "nbformat_minor": 5
}
