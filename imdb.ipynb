{
 "cells": [
  {
   "cell_type": "code",
   "execution_count": 1,
   "id": "bdc0c7be",
   "metadata": {},
   "outputs": [],
   "source": [
    "# imdb(internet movie database) => 긍정, 부정 리뷰 5만개로 이루어진 데이터셋\n",
    "# 훈련 데이터 25000개, 테스트 데이터 25000개\n",
    "\n",
    "import tensorflow as tf\n",
    "from tensorflow.keras.datasets import imdb\n",
    "from tensorflow.keras import layers, models\n",
    "import matplotlib.pyplot as plt\n",
    "import numpy as np"
   ]
  },
  {
   "cell_type": "code",
   "execution_count": 24,
   "id": "00bcd50f",
   "metadata": {},
   "outputs": [
    {
     "data": {
      "text/plain": [
       "1"
      ]
     },
     "execution_count": 24,
     "metadata": {},
     "output_type": "execute_result"
    }
   ],
   "source": [
    "(train_data, train_labels), (test_data, test_labels) = imdb.load_data(num_words = 10000) \n",
    "#가장 자주 등장하는 단어 1만개로 제한\n",
    "\n",
    "train_labels[0] #긍정의 경우 1, 부정의 경우 0을 나타내는 리스트"
   ]
  },
  {
   "cell_type": "code",
   "execution_count": 13,
   "id": "42ca3fcc",
   "metadata": {},
   "outputs": [],
   "source": [
    "def vectorize_sequences(sequences, dimension = 10000):\n",
    "    results = np.zeros((len(sequences), dimension))\n",
    "    for i, sequence in enumerate(sequences):\n",
    "        results[i, sequence] = 1.\n",
    "    return results\n",
    "\n",
    "x_train = vectorize_sequences(train_data)\n",
    "x_test = vectorize_sequences(test_data)\n",
    "y_train = np.asarray(train_labels).astype('float32')\n",
    "y_test = np.asarray(test_labels).astype('float32')\n",
    "\n",
    "#데이터 전처리 과정"
   ]
  },
  {
   "cell_type": "code",
   "execution_count": 18,
   "id": "db986865",
   "metadata": {},
   "outputs": [],
   "source": [
    "#신경망 모델 생성\n",
    "\n",
    "model = models.Sequential([\n",
    "    layers.Dense(16, activation = 'relu', input_shape = (10000,)),\n",
    "    layers.Dense(16, activation = 'relu'),\n",
    "    layers.Dense(1, activation = 'sigmoid') #시그모이드는 임의의 값을 0~1로 압축하므로, 출력 값을 확률처럼 해석 가능\n",
    "])\n",
    "\n",
    "model.compile(optimizer='Adam', loss='binary_crossentropy', metrics = ['accuracy'])"
   ]
  },
  {
   "cell_type": "code",
   "execution_count": 19,
   "id": "f1ab65a3",
   "metadata": {},
   "outputs": [],
   "source": [
    "#Validation data 추출\n",
    "\n",
    "x_val = x_train[:1000]\n",
    "x_train = x_train[1000:]\n",
    "y_val = y_train[:1000]\n",
    "y_train = y_train[1000:]"
   ]
  },
  {
   "cell_type": "code",
   "execution_count": 20,
   "id": "a505f93a",
   "metadata": {},
   "outputs": [
    {
     "name": "stdout",
     "output_type": "stream",
     "text": [
      "Train on 24000 samples, validate on 1000 samples\n",
      "Epoch 1/20\n",
      "24000/24000 [==============================] - 2s 87us/sample - loss: 0.5600 - accuracy: 0.7788 - val_loss: 0.4021 - val_accuracy: 0.8600\n",
      "Epoch 2/20\n",
      "24000/24000 [==============================] - 1s 34us/sample - loss: 0.3077 - accuracy: 0.8979 - val_loss: 0.2714 - val_accuracy: 0.8810\n",
      "Epoch 3/20\n",
      "24000/24000 [==============================] - 1s 35us/sample - loss: 0.2103 - accuracy: 0.9258 - val_loss: 0.2528 - val_accuracy: 0.8860\n",
      "Epoch 4/20\n",
      "24000/24000 [==============================] - 1s 35us/sample - loss: 0.1640 - accuracy: 0.9429 - val_loss: 0.2594 - val_accuracy: 0.8870\n",
      "Epoch 5/20\n",
      "24000/24000 [==============================] - 1s 35us/sample - loss: 0.1365 - accuracy: 0.9550 - val_loss: 0.2721 - val_accuracy: 0.8880\n",
      "Epoch 6/20\n",
      "24000/24000 [==============================] - 1s 33us/sample - loss: 0.1133 - accuracy: 0.9641 - val_loss: 0.2939 - val_accuracy: 0.8850\n",
      "Epoch 7/20\n",
      "24000/24000 [==============================] - 1s 33us/sample - loss: 0.0948 - accuracy: 0.9717 - val_loss: 0.3163 - val_accuracy: 0.8830\n",
      "Epoch 8/20\n",
      "24000/24000 [==============================] - 1s 33us/sample - loss: 0.0804 - accuracy: 0.9769 - val_loss: 0.3448 - val_accuracy: 0.8740\n",
      "Epoch 9/20\n",
      "24000/24000 [==============================] - 1s 34us/sample - loss: 0.0668 - accuracy: 0.9823 - val_loss: 0.3786 - val_accuracy: 0.8780\n",
      "Epoch 10/20\n",
      "24000/24000 [==============================] - 1s 32us/sample - loss: 0.0544 - accuracy: 0.9876 - val_loss: 0.4185 - val_accuracy: 0.8690\n",
      "Epoch 11/20\n",
      "24000/24000 [==============================] - 1s 34us/sample - loss: 0.0440 - accuracy: 0.9911 - val_loss: 0.4482 - val_accuracy: 0.8670\n",
      "Epoch 12/20\n",
      "24000/24000 [==============================] - 1s 33us/sample - loss: 0.0339 - accuracy: 0.9939 - val_loss: 0.4842 - val_accuracy: 0.8700\n",
      "Epoch 13/20\n",
      "24000/24000 [==============================] - 1s 33us/sample - loss: 0.0253 - accuracy: 0.9964 - val_loss: 0.5293 - val_accuracy: 0.8700\n",
      "Epoch 14/20\n",
      "24000/24000 [==============================] - 1s 33us/sample - loss: 0.0186 - accuracy: 0.9979 - val_loss: 0.5600 - val_accuracy: 0.8700\n",
      "Epoch 15/20\n",
      "24000/24000 [==============================] - 1s 33us/sample - loss: 0.0139 - accuracy: 0.9990 - val_loss: 0.5939 - val_accuracy: 0.8630\n",
      "Epoch 16/20\n",
      "24000/24000 [==============================] - 1s 34us/sample - loss: 0.0101 - accuracy: 0.9994 - val_loss: 0.6164 - val_accuracy: 0.8680\n",
      "Epoch 17/20\n",
      "24000/24000 [==============================] - 1s 33us/sample - loss: 0.0076 - accuracy: 0.9998 - val_loss: 0.6500 - val_accuracy: 0.8640\n",
      "Epoch 18/20\n",
      "24000/24000 [==============================] - 1s 33us/sample - loss: 0.0058 - accuracy: 0.9999 - val_loss: 0.6685 - val_accuracy: 0.8690\n",
      "Epoch 19/20\n",
      "24000/24000 [==============================] - 1s 34us/sample - loss: 0.0046 - accuracy: 1.0000 - val_loss: 0.6914 - val_accuracy: 0.8690\n",
      "Epoch 20/20\n",
      "24000/24000 [==============================] - 1s 33us/sample - loss: 0.0038 - accuracy: 1.0000 - val_loss: 0.7169 - val_accuracy: 0.8680\n"
     ]
    }
   ],
   "source": [
    "history = model.fit(x_train, y_train, epochs=20, batch_size =512, validation_data = (x_val, y_val))"
   ]
  },
  {
   "cell_type": "code",
   "execution_count": 22,
   "id": "2ef27d7b",
   "metadata": {},
   "outputs": [
    {
     "data": {
      "image/png": "[encoded data removed]",
      "text/plain": [
       "<Figure size 432x288 with 1 Axes>"
      ]
     },
     "metadata": {
      "needs_background": "light"
     },
     "output_type": "display_data"
    }
   ],
   "source": [
    "# Accuracy 그래프 그리기\n",
    "\n",
    "history_dict = history.history\n",
    "\n",
    "acc = history_dict['accuracy']\n",
    "val_acc = history_dict['val_accuracy']\n",
    "\n",
    "epochs = range(1, len(acc)+1)\n",
    "plt.plot(epochs, acc, 'r', label = 'Training Accuracy')\n",
    "plt.plot(epochs, val_acc, 'b', label = 'Validation Accuracy')\n",
    "plt.title(\"Training and validation Accuracy\")\n",
    "plt.xlabel('Epochs')\n",
    "plt.ylabel('Accuracy')\n",
    "plt.legend()\n",
    "plt.show()"
   ]
  }
 ],
 "metadata": {
  "kernelspec": {
   "display_name": "Python 3 (ipykernel)",
   "language": "python",
   "name": "python3"
  },
  "language_info": {
   "codemirror_mode": {
    "name": "ipython",
    "version": 3
   },
   "file_extension": ".py",
   "mimetype": "text/x-python",
   "name": "python",
   "nbconvert_exporter": "python",
   "pygments_lexer": "ipython3",
   "version": "3.7.0"
  }
 },
 "nbformat": 4,
 "nbformat_minor": 5
}
