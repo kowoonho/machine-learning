{
  "nbformat": 4,
  "nbformat_minor": 0,
  "metadata": {
    "colab": {
      "name": "Linear Regression by class.ipynb",
      "provenance": [],
      "authorship_tag": "ABX9TyNxstnkyeSp5UV6WSacUe1L",
      "include_colab_link": true
    },
    "kernelspec": {
      "name": "python3",
      "display_name": "Python 3"
    },
    "language_info": {
      "name": "python"
    }
  },
  "cells": [
    {
      "cell_type": "markdown",
      "metadata": {
        "id": "view-in-github",
        "colab_type": "text"
      },
      "source": [
        "<a href=\"https://colab.research.google.com/github/kowoonho/machine-learning/blob/main/Linear_Regression_by_class.ipynb\" target=\"_parent\"><img src=\"https://colab.research.google.com/assets/colab-badge.svg\" alt=\"Open In Colab\"/></a>"
      ]
    },
    {
      "cell_type": "code",
      "execution_count": 2,
      "metadata": {
        "id": "QGAJ9-WL215m"
      },
      "outputs": [],
      "source": [
        "import torch\n",
        "import torch.nn as nn\n",
        "import torch.nn.functional as F\n",
        "\n",
        "class LinearRegressionModel(nn.Module):\n",
        "  # torch.nn.Module을 상속받아 사용\n",
        "  def __init__(self):\n",
        "    super().__init__()\n",
        "    self.linear = nn.Linear(1,1)\n",
        "\n",
        "  def forward(self, x):\n",
        "    return self.linear(x)\n",
        "\n",
        "x_train = torch.FloatTensor([[1], [2], [3]])\n",
        "y_train = torch.FloatTensor([[2], [4], [6]])"
      ]
    },
    {
      "cell_type": "code",
      "source": [
        "model = LinearRegressionModel()\n",
        "\n",
        "optimizer = torch.optim.SGD(model.parameters(), lr = 0.01)\n",
        "\n",
        "nb_epochs = 2000\n",
        "\n",
        "for epoch in range(nb_epochs + 1):\n",
        "  prediction = model(x_train)\n",
        "  cost = F.mse_loss(prediction, y_train)\n",
        "\n",
        "  optimizer.zero_grad()\n",
        "  cost.backward()\n",
        "  optimizer.step()\n",
        "\n",
        "  if epoch % 100 == 0:\n",
        "      print('Epoch {:4d}/{} Cost: {:.6f}'.format(\n",
        "          epoch, nb_epochs, cost.item()\n",
        "      ))"
      ],
      "metadata": {
        "colab": {
          "base_uri": "https://localhost:8080/"
        },
        "id": "v7Yx5vuY3-qN",
        "outputId": "ec89251f-3b6d-4b25-ba82-bd1ef3098b14"
      },
      "execution_count": 3,
      "outputs": [
        {
          "output_type": "stream",
          "name": "stdout",
          "text": [
            "Epoch    0/2000 Cost: 34.401653\n",
            "Epoch  100/2000 Cost: 0.063290\n",
            "Epoch  200/2000 Cost: 0.039109\n",
            "Epoch  300/2000 Cost: 0.024167\n",
            "Epoch  400/2000 Cost: 0.014934\n",
            "Epoch  500/2000 Cost: 0.009228\n",
            "Epoch  600/2000 Cost: 0.005702\n",
            "Epoch  700/2000 Cost: 0.003524\n",
            "Epoch  800/2000 Cost: 0.002177\n",
            "Epoch  900/2000 Cost: 0.001346\n",
            "Epoch 1000/2000 Cost: 0.000831\n",
            "Epoch 1100/2000 Cost: 0.000514\n",
            "Epoch 1200/2000 Cost: 0.000317\n",
            "Epoch 1300/2000 Cost: 0.000196\n",
            "Epoch 1400/2000 Cost: 0.000121\n",
            "Epoch 1500/2000 Cost: 0.000075\n",
            "Epoch 1600/2000 Cost: 0.000046\n",
            "Epoch 1700/2000 Cost: 0.000029\n",
            "Epoch 1800/2000 Cost: 0.000018\n",
            "Epoch 1900/2000 Cost: 0.000011\n",
            "Epoch 2000/2000 Cost: 0.000007\n"
          ]
        }
      ]
    },
    {
      "cell_type": "code",
      "source": [
        "## \"pytorch로 시작하는 딥러닝 입문\"을 참고하여 쓴 코드 입니다.\n",
        "## https://wikidocs.net/60036"
      ],
      "metadata": {
        "id": "3YzhKPU-47Fc"
      },
      "execution_count": 4,
      "outputs": []
    }
  ]
}