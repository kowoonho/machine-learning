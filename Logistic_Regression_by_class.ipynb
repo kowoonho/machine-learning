{
  "nbformat": 4,
  "nbformat_minor": 0,
  "metadata": {
    "colab": {
      "name": "Logistic Regression by class.ipynb",
      "provenance": [],
      "authorship_tag": "ABX9TyPpx5r859GL9mI47pjWAW58",
      "include_colab_link": true
    },
    "kernelspec": {
      "name": "python3",
      "display_name": "Python 3"
    },
    "language_info": {
      "name": "python"
    }
  },
  "cells": [
    {
      "cell_type": "markdown",
      "metadata": {
        "id": "view-in-github",
        "colab_type": "text"
      },
      "source": [
        "<a href=\"https://colab.research.google.com/github/kowoonho/machine-learning/blob/main/Logistic_Regression_by_class.ipynb\" target=\"_parent\"><img src=\"https://colab.research.google.com/assets/colab-badge.svg\" alt=\"Open In Colab\"/></a>"
      ]
    },
    {
      "cell_type": "code",
      "execution_count": 1,
      "metadata": {
        "colab": {
          "base_uri": "https://localhost:8080/"
        },
        "id": "7gyz0PNrlOQJ",
        "outputId": "ac3f37f8-cfa2-4664-db4c-ab48b0239a40"
      },
      "outputs": [
        {
          "output_type": "execute_result",
          "data": {
            "text/plain": [
              "<torch._C.Generator at 0x7fc262726090>"
            ]
          },
          "metadata": {},
          "execution_count": 1
        }
      ],
      "source": [
        "import torch\n",
        "import torch.nn as nn\n",
        "import torch.nn.functional as F\n",
        "import torch.optim as optim\n",
        "\n",
        "torch.manual_seed(1)"
      ]
    },
    {
      "cell_type": "code",
      "source": [
        "class BinaryClassifier(nn.Module):\n",
        "  def __init__(self):\n",
        "    super().__init__()\n",
        "    self.linear = nn.Linear(2,1) # W*x + b 계산\n",
        "    self.sigmoid = nn.Sigmoid() # sigmoid계산\n",
        "  \n",
        "  def forward(self, x):\n",
        "    return self.sigmoid(self.linear(x)) # sigmoid(W*x + b) 계산\n",
        "\n",
        "x_data = [[1, 2], [2, 3], [3, 1], [4, 3], [5, 3], [6, 2]]\n",
        "y_data = [[0], [0], [0], [1], [1], [1]]\n",
        "x_train = torch.FloatTensor(x_data)\n",
        "y_train = torch.FloatTensor(y_data)\n"
      ],
      "metadata": {
        "id": "fX_vz95KlaCk"
      },
      "execution_count": 2,
      "outputs": []
    },
    {
      "cell_type": "code",
      "source": [
        "model = BinaryClassifier()\n",
        "\n",
        "optimizer = optim.SGD(model.parameters(), lr = 1)\n",
        "\n",
        "nb_epochs = 1000\n",
        "for epoch in range(nb_epochs + 1):\n",
        "  hypothesis = model(x_train)\n",
        "\n",
        "  cost = F.binary_cross_entropy(hypothesis, y_train)\n",
        "\n",
        "  optimizer.zero_grad()\n",
        "  cost.backward()\n",
        "  optimizer.step()\n",
        "\n",
        "  if epoch % 100 == 0:\n",
        "    prediction = hypothesis >= torch.FloatTensor([0.5]) # 예측값이 0.5를 넘으면 True로 판단\n",
        "    correct_prediction = prediction.float() == y_train #예측값과 실제값이 동일하면 True로 판단\n",
        "    accuracy = correct_prediction.sum().item() / len(correct_prediction) #예측값의 True갯수를 전체 갯수로 나누어 정확도 계산\n",
        "\n",
        "    print('Epoch {:4d}/{} Cost: {:.6f} Accuracy: {:2.2f}%'.format(\n",
        "        epoch, nb_epochs, cost.item(), accuracy * 100\n",
        "    ))"
      ],
      "metadata": {
        "colab": {
          "base_uri": "https://localhost:8080/"
        },
        "id": "n0nX85j_lwEm",
        "outputId": "a471cc41-9bc7-4e4f-c6b3-c174a47bfc3c"
      },
      "execution_count": 3,
      "outputs": [
        {
          "output_type": "stream",
          "name": "stdout",
          "text": [
            "Epoch    0/1000 Cost: 0.539713 Accuracy: 83.33%\n",
            "Epoch  100/1000 Cost: 0.134272 Accuracy: 100.00%\n",
            "Epoch  200/1000 Cost: 0.080486 Accuracy: 100.00%\n",
            "Epoch  300/1000 Cost: 0.057820 Accuracy: 100.00%\n",
            "Epoch  400/1000 Cost: 0.045251 Accuracy: 100.00%\n",
            "Epoch  500/1000 Cost: 0.037228 Accuracy: 100.00%\n",
            "Epoch  600/1000 Cost: 0.031649 Accuracy: 100.00%\n",
            "Epoch  700/1000 Cost: 0.027538 Accuracy: 100.00%\n",
            "Epoch  800/1000 Cost: 0.024381 Accuracy: 100.00%\n",
            "Epoch  900/1000 Cost: 0.021877 Accuracy: 100.00%\n",
            "Epoch 1000/1000 Cost: 0.019843 Accuracy: 100.00%\n"
          ]
        }
      ]
    },
    {
      "cell_type": "code",
      "source": [
        "## \"pytorch로 시작하는 딥러닝 입문\"을 참고하여 쓴 코드입니다.\n",
        "## https://wikidocs.net/60037"
      ],
      "metadata": {
        "id": "aAGrbmXhnDR0"
      },
      "execution_count": 4,
      "outputs": []
    }
  ]
}