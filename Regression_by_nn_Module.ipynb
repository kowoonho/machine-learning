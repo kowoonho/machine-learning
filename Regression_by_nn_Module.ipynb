{
  "nbformat": 4,
  "nbformat_minor": 0,
  "metadata": {
    "colab": {
      "name": "Regression by nn.Module.ipynb",
      "provenance": [],
      "authorship_tag": "ABX9TyPWHPv4AUl7Kc+8eukdVg+n",
      "include_colab_link": true
    },
    "kernelspec": {
      "name": "python3",
      "display_name": "Python 3"
    },
    "language_info": {
      "name": "python"
    }
  },
  "cells": [
    {
      "cell_type": "markdown",
      "metadata": {
        "id": "view-in-github",
        "colab_type": "text"
      },
      "source": [
        "<a href=\"https://colab.research.google.com/github/kowoonho/machine-learning/blob/main/Regression_by_nn_Module.ipynb\" target=\"_parent\"><img src=\"https://colab.research.google.com/assets/colab-badge.svg\" alt=\"Open In Colab\"/></a>"
      ]
    },
    {
      "cell_type": "code",
      "execution_count": 2,
      "metadata": {
        "colab": {
          "base_uri": "https://localhost:8080/"
        },
        "id": "Yuf1Wo40xAy-",
        "outputId": "936bfa98-d821-41a5-a30f-73ba0982ae30"
      },
      "outputs": [
        {
          "output_type": "execute_result",
          "data": {
            "text/plain": [
              "<torch._C.Generator at 0x7f39c1a360b0>"
            ]
          },
          "metadata": {},
          "execution_count": 2
        }
      ],
      "source": [
        "import torch\n",
        "import torch.nn as nn\n",
        "import torch.nn.functional as F\n",
        "\n",
        "torch.manual_seed(1)"
      ]
    },
    {
      "cell_type": "code",
      "source": [
        "x_train = torch.FloatTensor([[1], [2], [3]])\n",
        "y_train = torch.FloatTensor([[2], [4], [6]])\n",
        "\n",
        "# 선형회귀 모델 정의\n",
        "model = nn.Linear(1,1) #input_dim = 1, output_dim = 1\n",
        "\n",
        "print(list(model.parameters()))"
      ],
      "metadata": {
        "colab": {
          "base_uri": "https://localhost:8080/"
        },
        "id": "j9wDSKOrxULl",
        "outputId": "dbfb1ea3-8211-4145-d6ab-16f28ea28946"
      },
      "execution_count": 4,
      "outputs": [
        {
          "output_type": "stream",
          "name": "stdout",
          "text": [
            "[Parameter containing:\n",
            "tensor([[0.5153]], requires_grad=True), Parameter containing:\n",
            "tensor([-0.4414], requires_grad=True)]\n"
          ]
        }
      ]
    },
    {
      "cell_type": "code",
      "source": [
        "optimizer = torch.optim.SGD(model.parameters(), lr = 0.01)\n",
        "\n",
        "nb_epochs = 2000\n",
        "\n",
        "for epoch in range(nb_epochs + 1):\n",
        "  prediction = model(x_train) #정의했던 모델을 가설함수로 사용\n",
        "  cost = F.mse_loss(prediction, y_train) #파이토치에서 제공하는 평균제곱오차 함수\n",
        "\n",
        "  optimizer.zero_grad()\n",
        "  cost.backward()\n",
        "  optimizer.step()\n",
        "\n",
        "  if epoch % 100 == 0:\n",
        "    print('Epoch {:4d}/{} Cost: {:.6f}'.format(\n",
        "        epoch, nb_epochs, cost.item()\n",
        "    ))\n"
      ],
      "metadata": {
        "colab": {
          "base_uri": "https://localhost:8080/"
        },
        "id": "JT4Vi4LSxwjl",
        "outputId": "699f37be-b802-482b-d119-e6426ead52b0"
      },
      "execution_count": 5,
      "outputs": [
        {
          "output_type": "stream",
          "name": "stdout",
          "text": [
            "Epoch    0/2000 Cost: 13.103541\n",
            "Epoch  100/2000 Cost: 0.002791\n",
            "Epoch  200/2000 Cost: 0.001724\n",
            "Epoch  300/2000 Cost: 0.001066\n",
            "Epoch  400/2000 Cost: 0.000658\n",
            "Epoch  500/2000 Cost: 0.000407\n",
            "Epoch  600/2000 Cost: 0.000251\n",
            "Epoch  700/2000 Cost: 0.000155\n",
            "Epoch  800/2000 Cost: 0.000096\n",
            "Epoch  900/2000 Cost: 0.000059\n",
            "Epoch 1000/2000 Cost: 0.000037\n",
            "Epoch 1100/2000 Cost: 0.000023\n",
            "Epoch 1200/2000 Cost: 0.000014\n",
            "Epoch 1300/2000 Cost: 0.000009\n",
            "Epoch 1400/2000 Cost: 0.000005\n",
            "Epoch 1500/2000 Cost: 0.000003\n",
            "Epoch 1600/2000 Cost: 0.000002\n",
            "Epoch 1700/2000 Cost: 0.000001\n",
            "Epoch 1800/2000 Cost: 0.000001\n",
            "Epoch 1900/2000 Cost: 0.000000\n",
            "Epoch 2000/2000 Cost: 0.000000\n"
          ]
        }
      ]
    },
    {
      "cell_type": "code",
      "source": [
        "new_var = torch.FloatTensor([[4.0]])\n",
        "pred_y = model(new_var)\n",
        "# 입력한 값 4에 대해 예측값을 저장\n",
        "\n",
        "print(\"훈련 후 입력이 4일 때의 예측값 : \", pred_y)"
      ],
      "metadata": {
        "colab": {
          "base_uri": "https://localhost:8080/"
        },
        "id": "FmROzTgszRJL",
        "outputId": "119d03d3-3252-45d5-a112-7635c04e269f"
      },
      "execution_count": 6,
      "outputs": [
        {
          "output_type": "stream",
          "name": "stdout",
          "text": [
            "훈련 후 입력이 4일 때의 예측값 :  tensor([[7.9989]], grad_fn=<AddmmBackward0>)\n"
          ]
        }
      ]
    },
    {
      "cell_type": "code",
      "source": [
        "print(list(model.parameters()))"
      ],
      "metadata": {
        "colab": {
          "base_uri": "https://localhost:8080/"
        },
        "id": "mMaMz6rUzjYA",
        "outputId": "fc9eeb8d-1f63-42e9-d0aa-3f787995ac53"
      },
      "execution_count": 7,
      "outputs": [
        {
          "output_type": "stream",
          "name": "stdout",
          "text": [
            "[Parameter containing:\n",
            "tensor([[1.9994]], requires_grad=True), Parameter containing:\n",
            "tensor([0.0014], requires_grad=True)]\n"
          ]
        }
      ]
    },
    {
      "cell_type": "code",
      "source": [
        "## 다중 선형 회귀 구현\n",
        "x_train = torch.FloatTensor([[73, 80, 75],\n",
        "                             [93, 88, 93],\n",
        "                             [89, 91, 90],\n",
        "                             [96, 98, 100],\n",
        "                             [73, 66, 70]])\n",
        "y_train = torch.FloatTensor([[152], [185], [180], [196], [142]])\n",
        "\n",
        "model = nn.Linear(3,1)"
      ],
      "metadata": {
        "id": "JOAUjgUk0wYV"
      },
      "execution_count": 8,
      "outputs": []
    },
    {
      "cell_type": "code",
      "source": [
        "nb_epochs = 2000\n",
        "optimizer = torch.optim.SGD(model.parameters(), lr = 1e-5)\n",
        "\n",
        "for epoch in range(nb_epochs + 1):\n",
        "  prediction = model(x_train)\n",
        "  cost = F.mse_loss(prediction, y_train)\n",
        "\n",
        "  optimizer.zero_grad()\n",
        "  cost.backward()\n",
        "  optimizer.step()\n",
        "\n",
        "  if epoch % 100 == 0:\n",
        "    print('Epoch {:4d}/{} Cost: {:.6f}'.format(\n",
        "          epoch, nb_epochs, cost.item()\n",
        "      ))"
      ],
      "metadata": {
        "colab": {
          "base_uri": "https://localhost:8080/"
        },
        "id": "NEyLrbvR11hj",
        "outputId": "4596f6b1-5e1b-4828-990b-718b57d74d8c"
      },
      "execution_count": 9,
      "outputs": [
        {
          "output_type": "stream",
          "name": "stdout",
          "text": [
            "Epoch    0/2000 Cost: 42134.707031\n",
            "Epoch  100/2000 Cost: 5.960053\n",
            "Epoch  200/2000 Cost: 5.654707\n",
            "Epoch  300/2000 Cost: 5.365413\n",
            "Epoch  400/2000 Cost: 5.091429\n",
            "Epoch  500/2000 Cost: 4.831834\n",
            "Epoch  600/2000 Cost: 4.585997\n",
            "Epoch  700/2000 Cost: 4.353045\n",
            "Epoch  800/2000 Cost: 4.132426\n",
            "Epoch  900/2000 Cost: 3.923438\n",
            "Epoch 1000/2000 Cost: 3.725488\n",
            "Epoch 1100/2000 Cost: 3.537972\n",
            "Epoch 1200/2000 Cost: 3.360339\n",
            "Epoch 1300/2000 Cost: 3.192076\n",
            "Epoch 1400/2000 Cost: 3.032686\n",
            "Epoch 1500/2000 Cost: 2.881703\n",
            "Epoch 1600/2000 Cost: 2.738666\n",
            "Epoch 1700/2000 Cost: 2.603199\n",
            "Epoch 1800/2000 Cost: 2.474860\n",
            "Epoch 1900/2000 Cost: 2.353289\n",
            "Epoch 2000/2000 Cost: 2.238115\n"
          ]
        }
      ]
    },
    {
      "cell_type": "code",
      "source": [
        "new_var = torch.FloatTensor([73, 80, 75])\n",
        "\n",
        "pred_y = model(new_var)\n",
        "print(\"훈련 후 예측값 : \", pred_y)"
      ],
      "metadata": {
        "colab": {
          "base_uri": "https://localhost:8080/"
        },
        "id": "C58ZDLa52PAb",
        "outputId": "7a8449e9-c06f-41f1-e963-30b14e95fd40"
      },
      "execution_count": 10,
      "outputs": [
        {
          "output_type": "stream",
          "name": "stdout",
          "text": [
            "훈련 후 예측값 :  tensor([153.7184], grad_fn=<AddBackward0>)\n"
          ]
        }
      ]
    },
    {
      "cell_type": "code",
      "source": [
        "## \"pytorch로 시작하는 딥러닝 입문\"을 참고하여 쓴 코드입니다.\n",
        "## https://wikidocs.net/55409"
      ],
      "metadata": {
        "id": "86KPkaOU2ZfO"
      },
      "execution_count": 11,
      "outputs": []
    }
  ]
}