{
  "nbformat": 4,
  "nbformat_minor": 0,
  "metadata": {
    "colab": {
      "name": "mnist by softmax regression.ipynb",
      "provenance": [],
      "authorship_tag": "ABX9TyM4N3+3jKPJ2yaZskjaZ23F",
      "include_colab_link": true
    },
    "kernelspec": {
      "name": "python3",
      "display_name": "Python 3"
    },
    "language_info": {
      "name": "python"
    },
    "accelerator": "GPU"
  },
  "cells": [
    {
      "cell_type": "markdown",
      "metadata": {
        "id": "view-in-github",
        "colab_type": "text"
      },
      "source": [
        "<a href=\"https://colab.research.google.com/github/kowoonho/machine-learning/blob/main/mnist_by_softmax_regression.ipynb\" target=\"_parent\"><img src=\"https://colab.research.google.com/assets/colab-badge.svg\" alt=\"Open In Colab\"/></a>"
      ]
    },
    {
      "cell_type": "code",
      "source": [
        "import torch\n",
        "import torchvision.datasets as dsets\n",
        "import torchvision.transforms as transforms\n",
        "from torch.utils.data import DataLoader\n",
        "import torch.nn as nn\n",
        "import matplotlib.pyplot as plt\n",
        "import random"
      ],
      "metadata": {
        "id": "i8ATO6V5XaB2"
      },
      "execution_count": 24,
      "outputs": []
    },
    {
      "cell_type": "code",
      "source": [
        "use_cuda = torch.cuda.is_available() #gpu를 쓰고있으면 true아니면 false를 출력함.\n",
        "\n",
        "device = torch.device(\"cuda\" if use_cuda else \"cpu\")\n",
        "print(\"다음 기기로 학습합니다: \", device)"
      ],
      "metadata": {
        "colab": {
          "base_uri": "https://localhost:8080/"
        },
        "id": "_asOLO2CXqf2",
        "outputId": "efc7ec53-b304-49c8-c3c2-de8e45d7e9c7"
      },
      "execution_count": 25,
      "outputs": [
        {
          "output_type": "stream",
          "name": "stdout",
          "text": [
            "다음 기기로 학습합니다:  cuda\n"
          ]
        }
      ]
    },
    {
      "cell_type": "code",
      "source": [
        "random.seed(1)\n",
        "torch.manual_seed(1)\n",
        "if device == 'cuda':\n",
        "  torch.cuda.manual_seed_all(1) "
      ],
      "metadata": {
        "id": "EThKHQWIYAeP"
      },
      "execution_count": 26,
      "outputs": []
    },
    {
      "cell_type": "code",
      "source": [
        "training_epochs = 15\n",
        "batch_size = 100"
      ],
      "metadata": {
        "id": "ao8F_LfVX-ru"
      },
      "execution_count": 27,
      "outputs": []
    },
    {
      "cell_type": "code",
      "source": [
        "mnist_train = dsets.MNIST(root=\"MNIST_data/\", train = True,\n",
        "                          transform = transforms.ToTensor(),\n",
        "                          download=True)\n",
        "# root -> 데이터를 다운로드받을 경로\n",
        "# train -> 트레이닝데이터인지 테스트데이터인지\n",
        "# transform -> 데이터를 파이토치 텐서로 변환\n",
        "# download -> 다운로드 할 것인가?\n",
        "mnist_test = dsets.MNIST(root = \"MNIST_data/\", train = False,\n",
        "                         transform = transforms.ToTensor(),\n",
        "                         download = True)\n"
      ],
      "metadata": {
        "id": "ve0ravykYOSy"
      },
      "execution_count": 28,
      "outputs": []
    },
    {
      "cell_type": "code",
      "source": [
        "data_loader = DataLoader(dataset=mnist_train, batch_size=batch_size,\n",
        "                         shuffle=True, drop_last=True)\n",
        "# batch_size는 배치사이즈를 얼마로 쪼개서 학습할 것인지를 의미합니다.\n",
        "# shuffle은 1 epoch마다 미니배치를 섞을 것인지의 여부입니다.\n",
        "# drop_last는 마지막배치를 버릴것인지를 의미합니다.\n",
        "# 예를들면, 1000개의 데이터에서 128개의 배치로 쪼개면 마지막 남은 104개를 버린다는 것을 의미합니다.\n"
      ],
      "metadata": {
        "id": "UWyFiLgsYrN0"
      },
      "execution_count": 29,
      "outputs": []
    },
    {
      "cell_type": "code",
      "source": [
        "linear = nn.Linear(784, 10, bias = True).to(device)\n",
        "# bias = True -> b를 사용할 것인지 여부 but, default값이 True입니다.\n",
        "criterion = nn.CrossEntropyLoss().to(device) #내부에 소프트맥스 함수 포함\n",
        "optimizer = torch.optim.SGD(linear.parameters(), lr = 0.1)"
      ],
      "metadata": {
        "id": "exS-l6PXYwcR"
      },
      "execution_count": 30,
      "outputs": []
    },
    {
      "cell_type": "code",
      "source": [
        "for epoch in range(training_epochs):\n",
        "  avg_cost = 0\n",
        "  total_batch = len(data_loader)\n",
        "  for x, y in data_loader: \n",
        "    x = x.view(-1, 784).to(device)\n",
        "    y = y.to(device)\n",
        "\n",
        "    optimizer.zero_grad()\n",
        "    hypothesis = linear(x)\n",
        "    cost = criterion(hypothesis, y)\n",
        "    cost.backward()\n",
        "    optimizer.step()\n",
        "\n",
        "    avg_cost += cost/total_batch\n",
        "\n",
        "  print('Epoch:', '%04d' %(epoch + 1), 'cost = ', '{:.9f}'.format(\n",
        "      avg_cost\n",
        "  ))\n",
        "\n",
        "print('Learning finished!')"
      ],
      "metadata": {
        "colab": {
          "base_uri": "https://localhost:8080/"
        },
        "id": "op6VVq5cZVdr",
        "outputId": "3a72efb4-cb89-4196-ccbe-d5a6541611a7"
      },
      "execution_count": 31,
      "outputs": [
        {
          "output_type": "stream",
          "name": "stdout",
          "text": [
            "Epoch: 0001 cost =  0.533756375\n",
            "Epoch: 0002 cost =  0.359071344\n",
            "Epoch: 0003 cost =  0.330853939\n",
            "Epoch: 0004 cost =  0.316269368\n",
            "Epoch: 0005 cost =  0.306897253\n",
            "Epoch: 0006 cost =  0.299754918\n",
            "Epoch: 0007 cost =  0.295043945\n",
            "Epoch: 0008 cost =  0.290703595\n",
            "Epoch: 0009 cost =  0.287395447\n",
            "Epoch: 0010 cost =  0.284370959\n",
            "Epoch: 0011 cost =  0.281917393\n",
            "Epoch: 0012 cost =  0.279720336\n",
            "Epoch: 0013 cost =  0.277781814\n",
            "Epoch: 0014 cost =  0.275830269\n",
            "Epoch: 0015 cost =  0.274402410\n",
            "Learning finished!\n"
          ]
        }
      ]
    },
    {
      "cell_type": "code",
      "source": [
        "with torch.no_grad():\n",
        "  x_test = mnist_test.test_data.view(-1,784).float().to(device)\n",
        "  y_test = mnist_test.test_labels.to(device)\n",
        "\n",
        "  prediction = linear(x_test)\n",
        "  correct_prediction = torch.argmax(prediction, 1) == y_test\n",
        "  accuracy = correct_prediction.float().mean()\n",
        "  print('Accuracy : ', accuracy.item())\n",
        "\n",
        "  r = random.randint(0, len(mnist_test) - 1)\n",
        "  x_single_data = mnist_test.test_data[r:r+1].view(-1,784).float().to(device)\n",
        "  y_single_data = mnist_test.test_labels[r:r+1].to(device)\n",
        "\n",
        "  single_prediction = linear(x_single_data)\n",
        "\n",
        "  print('Label : ',y_single_data.item())\n",
        "  print('Prediction : ',torch.argmax(single_prediction, 1).item())\n",
        "\n",
        "  plt.imshow(mnist_test.test_data[r:r+1].view(28,28), cmap = 'Greys',\n",
        "             interpolation='nearest')\n",
        "  \n",
        "  plt.show()"
      ],
      "metadata": {
        "colab": {
          "base_uri": "https://localhost:8080/",
          "height": 404
        },
        "id": "WkwRVbiTaxEL",
        "outputId": "9c873984-b5eb-453c-9899-d95528b491a2"
      },
      "execution_count": 32,
      "outputs": [
        {
          "output_type": "stream",
          "name": "stdout",
          "text": [
            "Accuracy :  0.8837999701499939\n",
            "Label :  4\n",
            "Prediction :  4\n"
          ]
        },
        {
          "output_type": "stream",
          "name": "stderr",
          "text": [
            "/usr/local/lib/python3.7/dist-packages/torchvision/datasets/mnist.py:67: UserWarning: test_data has been renamed data\n",
            "  warnings.warn(\"test_data has been renamed data\")\n",
            "/usr/local/lib/python3.7/dist-packages/torchvision/datasets/mnist.py:57: UserWarning: test_labels has been renamed targets\n",
            "  warnings.warn(\"test_labels has been renamed targets\")\n"
          ]
        },
        {
          "output_type": "display_data",
          "data": {
            "image/png": "[encoded data removed]",
            "text/plain": [
              "<Figure size 432x288 with 1 Axes>"
            ]
          },
          "metadata": {
            "needs_background": "light"
          }
        }
      ]
    },
    {
      "cell_type": "code",
      "source": [
        "## \"pytorch로 시작하는 딥러닝 입문\"을 참고하여 쓴 코드입니다.\n",
        "## https://wikidocs.net/60324"
      ],
      "metadata": {
        "id": "miGokyHccnua"
      },
      "execution_count": 33,
      "outputs": []
    }
  ]
}