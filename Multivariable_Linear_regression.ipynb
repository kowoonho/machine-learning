{
  "nbformat": 4,
  "nbformat_minor": 0,
  "metadata": {
    "colab": {
      "name": "Multivariable Linear regression.ipynb",
      "provenance": [],
      "authorship_tag": "ABX9TyMNh2XP9mw6yZNhfrw/ET0R",
      "include_colab_link": true
    },
    "kernelspec": {
      "name": "python3",
      "display_name": "Python 3"
    },
    "language_info": {
      "name": "python"
    }
  },
  "cells": [
    {
      "cell_type": "markdown",
      "metadata": {
        "id": "view-in-github",
        "colab_type": "text"
      },
      "source": [
        "<a href=\"https://colab.research.google.com/github/kowoonho/machine-learning/blob/main/Multivariable_Linear_regression.ipynb\" target=\"_parent\"><img src=\"https://colab.research.google.com/assets/colab-badge.svg\" alt=\"Open In Colab\"/></a>"
      ]
    },
    {
      "cell_type": "code",
      "execution_count": 1,
      "metadata": {
        "id": "bGB748pErIeC",
        "colab": {
          "base_uri": "https://localhost:8080/"
        },
        "outputId": "704775d3-6025-4aa6-c1a3-a8bfe3db4920"
      },
      "outputs": [
        {
          "output_type": "execute_result",
          "data": {
            "text/plain": [
              "<torch._C.Generator at 0x7fd3d0d82090>"
            ]
          },
          "metadata": {},
          "execution_count": 1
        }
      ],
      "source": [
        "import torch\n",
        "import torch.nn as nn\n",
        "import torch.nn.functional as F\n",
        "import torch.optim as optim\n",
        "\n",
        "torch.manual_seed(1)"
      ]
    },
    {
      "cell_type": "code",
      "source": [
        "x1_train = torch.FloatTensor([[73], [93], [89], [96], [73]])\n",
        "x2_train = torch.FloatTensor([[80], [88], [91], [98], [66]])\n",
        "x3_train = torch.FloatTensor([[75], [93], [90], [100], [70]])\n",
        "y_train = torch.FloatTensor([[152], [185], [180], [196], [142]])"
      ],
      "metadata": {
        "id": "IyybVH38s2Hc"
      },
      "execution_count": 2,
      "outputs": []
    },
    {
      "cell_type": "code",
      "source": [
        "w1 = torch.zeros(1, requires_grad=True)\n",
        "w2 = torch.zeros(1, requires_grad=True)\n",
        "w3 = torch.zeros(1, requires_grad=True)\n",
        "b = torch.zeros(1, requires_grad=True)"
      ],
      "metadata": {
        "id": "HbozHiOis7Kw"
      },
      "execution_count": 3,
      "outputs": []
    },
    {
      "cell_type": "code",
      "source": [
        "optimizer = optim.SGD([w1, w2, w3, b], lr = 1e-5)\n",
        "nb_epochs = 1000\n",
        "\n",
        "for epoch in range(nb_epochs + 1):\n",
        "  hypothesis = x1_train * w1 + x2_train * w2 + x3_train * w3 + b\n",
        "  #다중 선형회귀 이므로, 가설을 위와 같이 세워줌.\n",
        "  cost = torch.mean((hypothesis - y_train)**2)\n",
        "\n",
        "  optimizer.zero_grad()\n",
        "  cost.backward()\n",
        "  optimizer.step()\n",
        "\n",
        "  if epoch % 100 == 0:\n",
        "    print(\"Epoch: {:4d}/{} w1: {:.3f} w2: {:.3f} w3: {:.3f} b: {:.3f} Cost: {:.6f}\".\n",
        "          format(epoch, nb_epochs, w1.item(), w2.item(), w3.item(), b.item(), cost.item()))\n",
        "    "
      ],
      "metadata": {
        "colab": {
          "base_uri": "https://localhost:8080/"
        },
        "id": "t3xUijPys91p",
        "outputId": "540c0340-5a0d-44d5-a447-824252686704"
      },
      "execution_count": 4,
      "outputs": [
        {
          "output_type": "stream",
          "name": "stdout",
          "text": [
            "Epoch:    0/1000 w1: 0.294 w2: 0.294 w3: 0.297 b: 0.003 Cost: 29661.800781\n",
            "Epoch:  100/1000 w1: 0.674 w2: 0.661 w3: 0.676 b: 0.008 Cost: 1.563628\n",
            "Epoch:  200/1000 w1: 0.679 w2: 0.655 w3: 0.677 b: 0.008 Cost: 1.497595\n",
            "Epoch:  300/1000 w1: 0.684 w2: 0.649 w3: 0.677 b: 0.008 Cost: 1.435044\n",
            "Epoch:  400/1000 w1: 0.689 w2: 0.643 w3: 0.678 b: 0.008 Cost: 1.375726\n",
            "Epoch:  500/1000 w1: 0.694 w2: 0.638 w3: 0.678 b: 0.009 Cost: 1.319507\n",
            "Epoch:  600/1000 w1: 0.699 w2: 0.633 w3: 0.679 b: 0.009 Cost: 1.266222\n",
            "Epoch:  700/1000 w1: 0.704 w2: 0.627 w3: 0.679 b: 0.009 Cost: 1.215703\n",
            "Epoch:  800/1000 w1: 0.709 w2: 0.622 w3: 0.679 b: 0.009 Cost: 1.167810\n",
            "Epoch:  900/1000 w1: 0.713 w2: 0.617 w3: 0.680 b: 0.009 Cost: 1.122429\n",
            "Epoch: 1000/1000 w1: 0.718 w2: 0.613 w3: 0.680 b: 0.009 Cost: 1.079390\n"
          ]
        }
      ]
    },
    {
      "cell_type": "code",
      "source": [
        "# 행렬 연산으로 재구현\n",
        "x__train  =  torch.FloatTensor([[73,  80,  75], \n",
        "                               [93,  88,  93], \n",
        "                               [89,  91,  80], \n",
        "                               [96,  98,  100],   \n",
        "                               [73,  66,  70]])  \n",
        "y__train  =  torch.FloatTensor([[152],  [185],  [180],  [196],  [142]])"
      ],
      "metadata": {
        "id": "fdNdP5r9t0wz"
      },
      "execution_count": 5,
      "outputs": []
    },
    {
      "cell_type": "code",
      "source": [
        "W = torch.zeros((3,1), requires_grad = True)\n",
        "bias = torch.zeros(1, requires_grad=True)\n",
        "\n",
        "hypothesis = x__train.matmul(W) + bias\n",
        "# 행렬 연산으로 가설을 간단히 세울 수 있다.\n",
        "optimizer = optim.SGD([W,bias], lr = 1e-5)"
      ],
      "metadata": {
        "id": "XLOSOFLcuNPJ"
      },
      "execution_count": 10,
      "outputs": []
    },
    {
      "cell_type": "code",
      "source": [
        "nb_epochs = 20\n",
        "for epoch in range(nb_epochs + 1):\n",
        "  hypothesis = x__train.matmul(W) + bias\n",
        "  \n",
        "  cost = torch.mean((hypothesis - y__train)**2)\n",
        "\n",
        "  optimizer.zero_grad()\n",
        "  cost.backward()\n",
        "  optimizer.step()\n",
        "\n",
        "  print(\"Epoch {:4d}/{} hypothesis: {} Cost {:.6f}\".format(\n",
        "      epoch, nb_epochs, hypothesis.detach().squeeze(), cost.item()\n",
        "  ))"
      ],
      "metadata": {
        "colab": {
          "base_uri": "https://localhost:8080/"
        },
        "id": "1YkG1sKEuouY",
        "outputId": "afaa0808-0fec-408f-b87f-39268c146cb2"
      },
      "execution_count": 14,
      "outputs": [
        {
          "output_type": "stream",
          "name": "stdout",
          "text": [
            "Epoch    0/20 hypothesis: tensor([154.0489, 185.1031, 175.7926, 198.5916, 141.2199]) Cost 5.847257\n",
            "Epoch    1/20 hypothesis: tensor([154.0488, 185.1028, 175.7936, 198.5911, 141.2200]) Cost 5.844723\n",
            "Epoch    2/20 hypothesis: tensor([154.0486, 185.1025, 175.7947, 198.5905, 141.2201]) Cost 5.842195\n",
            "Epoch    3/20 hypothesis: tensor([154.0485, 185.1022, 175.7957, 198.5899, 141.2201]) Cost 5.839685\n",
            "Epoch    4/20 hypothesis: tensor([154.0483, 185.1019, 175.7968, 198.5893, 141.2202]) Cost 5.837132\n",
            "Epoch    5/20 hypothesis: tensor([154.0482, 185.1016, 175.7978, 198.5887, 141.2202]) Cost 5.834631\n",
            "Epoch    6/20 hypothesis: tensor([154.0480, 185.1013, 175.7989, 198.5882, 141.2203]) Cost 5.832149\n",
            "Epoch    7/20 hypothesis: tensor([154.0479, 185.1011, 175.7999, 198.5876, 141.2203]) Cost 5.829581\n",
            "Epoch    8/20 hypothesis: tensor([154.0477, 185.1008, 175.8010, 198.5870, 141.2204]) Cost 5.827082\n",
            "Epoch    9/20 hypothesis: tensor([154.0476, 185.1005, 175.8020, 198.5864, 141.2205]) Cost 5.824571\n",
            "Epoch   10/20 hypothesis: tensor([154.0474, 185.1002, 175.8031, 198.5858, 141.2205]) Cost 5.822036\n",
            "Epoch   11/20 hypothesis: tensor([154.0473, 185.0999, 175.8041, 198.5852, 141.2206]) Cost 5.819564\n",
            "Epoch   12/20 hypothesis: tensor([154.0471, 185.0996, 175.8051, 198.5846, 141.2206]) Cost 5.817031\n",
            "Epoch   13/20 hypothesis: tensor([154.0470, 185.0993, 175.8062, 198.5840, 141.2207]) Cost 5.814490\n",
            "Epoch   14/20 hypothesis: tensor([154.0468, 185.0991, 175.8073, 198.5835, 141.2207]) Cost 5.811966\n",
            "Epoch   15/20 hypothesis: tensor([154.0466, 185.0988, 175.8083, 198.5829, 141.2208]) Cost 5.809479\n",
            "Epoch   16/20 hypothesis: tensor([154.0465, 185.0985, 175.8093, 198.5823, 141.2209]) Cost 5.806978\n",
            "Epoch   17/20 hypothesis: tensor([154.0464, 185.0982, 175.8104, 198.5817, 141.2209]) Cost 5.804478\n",
            "Epoch   18/20 hypothesis: tensor([154.0462, 185.0979, 175.8114, 198.5812, 141.2210]) Cost 5.801940\n",
            "Epoch   19/20 hypothesis: tensor([154.0460, 185.0976, 175.8125, 198.5806, 141.2210]) Cost 5.799462\n",
            "Epoch   20/20 hypothesis: tensor([154.0459, 185.0974, 175.8135, 198.5800, 141.2211]) Cost 5.796945\n"
          ]
        }
      ]
    },
    {
      "cell_type": "code",
      "source": [
        "## \"pytorch로 시작하는 딥러닝 입문\"을 참고하여 쓴 코드입니다.\n",
        "## https://wikidocs.net/54841"
      ],
      "metadata": {
        "id": "xkuU1zl3vgjo"
      },
      "execution_count": 15,
      "outputs": []
    }
  ]
}