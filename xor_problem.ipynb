{
  "nbformat": 4,
  "nbformat_minor": 0,
  "metadata": {
    "colab": {
      "name": "xor problem.ipynb",
      "provenance": [],
      "authorship_tag": "ABX9TyNovR0c6ILh9LLvW/4xepvQ",
      "include_colab_link": true
    },
    "kernelspec": {
      "name": "python3",
      "display_name": "Python 3"
    },
    "language_info": {
      "name": "python"
    }
  },
  "cells": [
    {
      "cell_type": "markdown",
      "metadata": {
        "id": "view-in-github",
        "colab_type": "text"
      },
      "source": [
        "<a href=\"https://colab.research.google.com/github/kowoonho/machine-learning/blob/main/xor_problem.ipynb\" target=\"_parent\"><img src=\"https://colab.research.google.com/assets/colab-badge.svg\" alt=\"Open In Colab\"/></a>"
      ]
    },
    {
      "cell_type": "code",
      "execution_count": null,
      "metadata": {
        "id": "B3VaXIq7oOmV"
      },
      "outputs": [],
      "source": [
        "import torch\n",
        "import torch.nn as nn\n",
        "import torch.nn.functional as F\n",
        "import torch.optim as optim\n",
        "device = 'cuda' if torch.cuda.is_available() else 'cpu'\n",
        "\n",
        "torch.manual_seed(1)\n",
        "if device == 'cude':\n",
        "  torch.cuda.manual_seed_all(1)\n"
      ]
    },
    {
      "cell_type": "code",
      "source": [
        "# XOR문제\n",
        "x = torch.FloatTensor([[0,0],[0,1],[1,0],[1,1]]).to(device)\n",
        "y = torch.FloatTensor([[0], [1], [1], [0]]).to(device)"
      ],
      "metadata": {
        "id": "kPConiaBoa7a"
      },
      "execution_count": null,
      "outputs": []
    },
    {
      "cell_type": "code",
      "source": [
        "linear1 = nn.Linear(2,2)\n",
        "linear2 = nn.Linear(2,1)\n",
        "sigmoid = nn.Sigmoid()\n",
        "model = nn.Sequential(linear1, sigmoid, linear2, sigmoid).to(device)\n"
      ],
      "metadata": {
        "id": "6uBwO7xsom0a"
      },
      "execution_count": null,
      "outputs": []
    },
    {
      "cell_type": "code",
      "source": [
        "criterion = nn.BCELoss().to(device)\n",
        "optimizer = optim.SGD(model.parameters(), lr = 1)"
      ],
      "metadata": {
        "id": "XEvCPit9o_83"
      },
      "execution_count": null,
      "outputs": []
    },
    {
      "cell_type": "code",
      "source": [
        "for step in range(10001):\n",
        "  optimizer.zero_grad()\n",
        "  hypothesis = model(x)\n",
        "\n",
        "  cost = criterion(hypothesis, y)\n",
        "  cost.backward()\n",
        "  optimizer.step()\n",
        "\n",
        "  if step % 100 == 0:\n",
        "    print(step, cost.item())"
      ],
      "metadata": {
        "colab": {
          "base_uri": "https://localhost:8080/"
        },
        "id": "Spnz6FdLpItZ",
        "outputId": "567bb8c3-4999-45c6-898f-5b9dc08138cb"
      },
      "execution_count": null,
      "outputs": [
        {
          "output_type": "stream",
          "name": "stdout",
          "text": [
            "0 0.7027696967124939\n",
            "100 0.6932805776596069\n",
            "200 0.6931957602500916\n",
            "300 0.6931444406509399\n",
            "400 0.6930971741676331\n",
            "500 0.6930322647094727\n",
            "600 0.692909300327301\n",
            "700 0.6925995349884033\n",
            "800 0.6914553046226501\n",
            "900 0.6836068630218506\n",
            "1000 0.6191836595535278\n",
            "1100 0.5298466086387634\n",
            "1200 0.28448134660720825\n",
            "1300 0.09057293087244034\n",
            "1400 0.04932449758052826\n",
            "1500 0.0333675816655159\n",
            "1600 0.025057243183255196\n",
            "1700 0.019998356699943542\n",
            "1800 0.01660875231027603\n",
            "1900 0.014185179024934769\n",
            "2000 0.01236904039978981\n",
            "2100 0.010959022678434849\n",
            "2200 0.00983348861336708\n",
            "2300 0.00891471840441227\n",
            "2400 0.008150972425937653\n",
            "2500 0.007506323978304863\n",
            "2600 0.006954996380954981\n",
            "2700 0.00647829519584775\n",
            "2800 0.006062048953026533\n",
            "2900 0.0056955101899802685\n",
            "3000 0.0053703682497143745\n",
            "3100 0.005079976748675108\n",
            "3200 0.004819078836590052\n",
            "3300 0.0045834751799702644\n",
            "3400 0.004369555041193962\n",
            "3500 0.004174640867859125\n",
            "3600 0.003996178042143583\n",
            "3700 0.0038322126492857933\n",
            "3800 0.003681077156215906\n",
            "3900 0.003541315905749798\n",
            "4000 0.0034116669557988644\n",
            "4100 0.0032911552116274834\n",
            "4200 0.0031787606421858072\n",
            "4300 0.0030737631022930145\n",
            "4400 0.00297542754560709\n",
            "4500 0.0028831097297370434\n",
            "4600 0.0027963444590568542\n",
            "4700 0.0027145773638039827\n",
            "4800 0.002637478755787015\n",
            "4900 0.0025645543355494738\n",
            "5000 0.0024955791886895895\n",
            "5100 0.002430149121209979\n",
            "5200 0.002368099056184292\n",
            "5300 0.0023090550675988197\n",
            "5400 0.0022528672125190496\n",
            "5500 0.002199340844526887\n",
            "5600 0.0021483113523572683\n",
            "5700 0.002099569421261549\n",
            "5800 0.0020529795438051224\n",
            "5900 0.002008378505706787\n",
            "6000 0.0019656752701848745\n",
            "6100 0.0019247655291110277\n",
            "6200 0.0018854700028896332\n",
            "6300 0.001847743522375822\n",
            "6400 0.0018115411512553692\n",
            "6500 0.0017766837263479829\n",
            "6600 0.001743155880831182\n",
            "6700 0.001710808603093028\n",
            "6800 0.0016796712297946215\n",
            "6900 0.001649639569222927\n",
            "7000 0.0016206535510718822\n",
            "7100 0.0015926981577649713\n",
            "7200 0.0015656242612749338\n",
            "7300 0.0015394912334159017\n",
            "7400 0.0015141797484830022\n",
            "7500 0.001489719608798623\n",
            "7600 0.0014660509768873453\n",
            "7700 0.0014430693117901683\n",
            "7800 0.001420834450982511\n",
            "7900 0.0013992416206747293\n",
            "8000 0.0013782461173832417\n",
            "8100 0.0013579524820670485\n",
            "8200 0.001338211353868246\n",
            "8300 0.0013190375175327063\n",
            "8400 0.0013004012871533632\n",
            "8500 0.0012823024298995733\n",
            "8600 0.0012646367540583014\n",
            "8700 0.0012475084513425827\n",
            "8800 0.0012308130972087383\n",
            "8900 0.0012145506916567683\n",
            "9000 0.0011987510370090604\n",
            "9100 0.00118329469114542\n",
            "9200 0.0011682715266942978\n",
            "9300 0.0011536063393577933\n",
            "9400 0.0011392846936360002\n",
            "9500 0.0011253808625042439\n",
            "9600 0.0011117308167740703\n",
            "9700 0.0010984688997268677\n",
            "9800 0.001085460651665926\n",
            "9900 0.001072795712389052\n",
            "10000 0.0010604143608361483\n"
          ]
        }
      ]
    },
    {
      "cell_type": "code",
      "source": [
        "with torch.no_grad():\n",
        "  hypothesis = model(x)\n",
        "  predicted = (hypothesis > 0.5).float()\n",
        "  accuracy = (predicted == y).float().mean()\n",
        "  print(\"모델의 출력 값 : \", hypothesis.detach().cpu().numpy())\n",
        "  print(\"모델의 예측 값 : \", predicted.detach().cpu().numpy())\n",
        "  print(\"모델의 실제 값 : \", y.cpu().numpy())\n",
        "\n",
        "  print(\"accuracy : \", accuracy.item())"
      ],
      "metadata": {
        "colab": {
          "base_uri": "https://localhost:8080/"
        },
        "id": "onIlp4p0piQ3",
        "outputId": "301fbb8f-96aa-4fd2-ccfb-1e894146d59d"
      },
      "execution_count": null,
      "outputs": [
        {
          "output_type": "stream",
          "name": "stdout",
          "text": [
            "모델의 출력 값 :  [[0.00123878]\n",
            " [0.99904925]\n",
            " [0.99905175]\n",
            " [0.00110107]]\n",
            "모델의 예측 값 :  [[0.]\n",
            " [1.]\n",
            " [1.]\n",
            " [0.]]\n",
            "모델의 실제 값 :  [[0.]\n",
            " [1.]\n",
            " [1.]\n",
            " [0.]]\n",
            "accuracy :  1.0\n"
          ]
        }
      ]
    },
    {
      "cell_type": "code",
      "source": [
        "## \"pytorch로 시작하는 딥러닝입문\"을 참고하여 쓴 코드입니다.\n",
        "## https://wikidocs.net/61010"
      ],
      "metadata": {
        "id": "vRdr7_8AuF7l"
      },
      "execution_count": null,
      "outputs": []
    }
  ]
}