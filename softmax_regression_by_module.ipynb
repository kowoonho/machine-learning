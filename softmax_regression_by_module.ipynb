{
  "nbformat": 4,
  "nbformat_minor": 0,
  "metadata": {
    "colab": {
      "name": "softmax regression by module.ipynb",
      "provenance": [],
      "authorship_tag": "ABX9TyO+dDdK4JeJ2thyLySvdkg3",
      "include_colab_link": true
    },
    "kernelspec": {
      "name": "python3",
      "display_name": "Python 3"
    },
    "language_info": {
      "name": "python"
    }
  },
  "cells": [
    {
      "cell_type": "markdown",
      "metadata": {
        "id": "view-in-github",
        "colab_type": "text"
      },
      "source": [
        "<a href=\"https://colab.research.google.com/github/kowoonho/machine-learning/blob/main/softmax_regression_by_module.ipynb\" target=\"_parent\"><img src=\"https://colab.research.google.com/assets/colab-badge.svg\" alt=\"Open In Colab\"/></a>"
      ]
    },
    {
      "cell_type": "code",
      "execution_count": 3,
      "metadata": {
        "id": "bFfl8pRWd-ei"
      },
      "outputs": [],
      "source": [
        "import torch\n",
        "import torch.nn as nn\n",
        "import torch.nn.functional as F\n",
        "import torch.optim as optim\n",
        "\n",
        "torch.manual_seed(1)\n",
        "\n",
        "x_train = [[1, 2, 1, 1],\n",
        "           [2, 1, 3, 2],\n",
        "           [3, 1, 3, 4],\n",
        "           [4, 1, 5, 5],\n",
        "           [1, 7, 5, 5],\n",
        "           [1, 2, 5, 6],\n",
        "           [1, 6, 6, 6],\n",
        "           [1, 7, 7, 7]]\n",
        "y_train = [2, 2, 2, 1, 1, 1, 0, 0]\n",
        "x_train = torch.FloatTensor(x_train)\n",
        "y_train = torch.LongTensor(y_train)"
      ]
    },
    {
      "cell_type": "code",
      "source": [
        "# 소프트맥스 회귀를 nn.Module로 구현하기\n",
        "model = nn.Linear(4,3)"
      ],
      "metadata": {
        "id": "Fw6oVh09eJJS"
      },
      "execution_count": 4,
      "outputs": []
    },
    {
      "cell_type": "code",
      "source": [
        "optimizer = optim.SGD(model.parameters(), lr = 0.1)\n",
        "\n",
        "nb_epochs = 1000\n",
        "for epoch in range(nb_epochs+1):\n",
        "  prediction = model(x_train)\n",
        "\n",
        "  cost = F.cross_entropy(prediction, y_train)\n",
        "\n",
        "  optimizer.zero_grad()\n",
        "  cost.backward()\n",
        "  optimizer.step()\n",
        "\n",
        "  if epoch % 100 == 0:\n",
        "    print(\"Epoch {:4d}/{} Cost: {:.6f}\".format(\n",
        "        epoch, nb_epochs, cost.item()\n",
        "    ))"
      ],
      "metadata": {
        "colab": {
          "base_uri": "https://localhost:8080/"
        },
        "id": "X1wAquFkgmYg",
        "outputId": "5d909690-527d-40ea-9902-d1d4b1ea55ad"
      },
      "execution_count": 5,
      "outputs": [
        {
          "output_type": "stream",
          "name": "stdout",
          "text": [
            "Epoch    0/1000 Cost: 1.616785\n",
            "Epoch  100/1000 Cost: 0.658891\n",
            "Epoch  200/1000 Cost: 0.573443\n",
            "Epoch  300/1000 Cost: 0.518151\n",
            "Epoch  400/1000 Cost: 0.473265\n",
            "Epoch  500/1000 Cost: 0.433516\n",
            "Epoch  600/1000 Cost: 0.396563\n",
            "Epoch  700/1000 Cost: 0.360914\n",
            "Epoch  800/1000 Cost: 0.325392\n",
            "Epoch  900/1000 Cost: 0.289178\n",
            "Epoch 1000/1000 Cost: 0.254148\n"
          ]
        }
      ]
    },
    {
      "cell_type": "code",
      "source": [
        "#소프트맥스 회귀를 클래스로 구현하기\n",
        "class SoftmaxClassifierModel(nn.Module):\n",
        "  def __init__(self):\n",
        "    super().__init__()\n",
        "    self.linear = nn.Linear(4,3)\n",
        "  \n",
        "  def forward(self, x):\n",
        "    return self.linear(x)\n",
        "\n",
        "\n"
      ],
      "metadata": {
        "id": "yx65jQ5hhKAb"
      },
      "execution_count": 14,
      "outputs": []
    },
    {
      "cell_type": "code",
      "source": [
        "model = SoftmaxClassifierModel()\n",
        "optimizer = optim.SGD(model.parameters(), lr=0.1)\n",
        "\n",
        "nb_epochs = 1000\n",
        "for epoch in range(nb_epochs + 1):\n",
        "  prediction = model(x_train)\n",
        "\n",
        "  cost = F.cross_entropy(prediction, y_train)\n",
        "\n",
        "  optimizer.zero_grad()\n",
        "  cost.backward()\n",
        "  optimizer.step()\n",
        "\n",
        "  if epoch % 100 == 0:\n",
        "    print(\"Epoch {:4d}/{} Cost: {:.6f}\".format(\n",
        "        epoch, nb_epochs, cost.item()\n",
        "    ))"
      ],
      "metadata": {
        "colab": {
          "base_uri": "https://localhost:8080/"
        },
        "id": "gG4hb0lXhghB",
        "outputId": "d3a14680-d177-47cd-b55b-2fd4db4dbe8e"
      },
      "execution_count": 15,
      "outputs": [
        {
          "output_type": "stream",
          "name": "stdout",
          "text": [
            "Epoch    0/1000 Cost: 1.769795\n",
            "Epoch  100/1000 Cost: 0.683375\n",
            "Epoch  200/1000 Cost: 0.604961\n",
            "Epoch  300/1000 Cost: 0.548068\n",
            "Epoch  400/1000 Cost: 0.497643\n",
            "Epoch  500/1000 Cost: 0.449878\n",
            "Epoch  600/1000 Cost: 0.403282\n",
            "Epoch  700/1000 Cost: 0.357164\n",
            "Epoch  800/1000 Cost: 0.311439\n",
            "Epoch  900/1000 Cost: 0.267948\n",
            "Epoch 1000/1000 Cost: 0.239820\n"
          ]
        }
      ]
    },
    {
      "cell_type": "code",
      "source": [
        "## \"pytorch로 시작하는 딥러닝 입문\"을 참고하여 쓴 코드입니다.\n",
        "## https://wikidocs.net/60575"
      ],
      "metadata": {
        "id": "QpSnTTSfh-RP"
      },
      "execution_count": 16,
      "outputs": []
    }
  ]
}